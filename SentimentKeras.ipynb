{
 "cells": [
  {
   "cell_type": "code",
   "execution_count": 197,
   "metadata": {},
   "outputs": [],
   "source": [
    "import pandas as pd\n",
    "import numpy as np\n",
    "import re\n",
    "import nltk\n",
    "from nltk.corpus import stopwords\n",
    "\n",
    "from numpy import array\n",
    "from keras.preprocessing.text import one_hot\n",
    "from keras.preprocessing.sequence import pad_sequences\n",
    "from keras.models import Sequential\n",
    "from keras.layers.core import Activation, Dropout, Dense\n",
    "from keras.layers import Flatten\n",
    "from keras.layers import GlobalMaxPooling1D\n",
    "from keras.layers.embeddings import Embedding\n",
    "from sklearn.model_selection import train_test_split\n",
    "from keras.preprocessing.text import Tokenizer\n",
    "from keras.layers import Conv1D\n",
    "from keras.layers import LSTM\n",
    "import seaborn as sns\n",
    "from numpy import array\n",
    "from numpy import asarray\n",
    "from numpy import zeros\n",
    "import matplotlib.pyplot as plt"
   ]
  },
  {
   "cell_type": "code",
   "execution_count": 198,
   "metadata": {},
   "outputs": [
    {
     "data": {
      "text/html": [
       "<div>\n",
       "<style scoped>\n",
       "    .dataframe tbody tr th:only-of-type {\n",
       "        vertical-align: middle;\n",
       "    }\n",
       "\n",
       "    .dataframe tbody tr th {\n",
       "        vertical-align: top;\n",
       "    }\n",
       "\n",
       "    .dataframe thead th {\n",
       "        text-align: right;\n",
       "    }\n",
       "</style>\n",
       "<table border=\"1\" class=\"dataframe\">\n",
       "  <thead>\n",
       "    <tr style=\"text-align: right;\">\n",
       "      <th></th>\n",
       "      <th>review</th>\n",
       "      <th>sentiment</th>\n",
       "    </tr>\n",
       "  </thead>\n",
       "  <tbody>\n",
       "    <tr>\n",
       "      <th>0</th>\n",
       "      <td>steve carell stars person relate to sort of da...</td>\n",
       "      <td>1</td>\n",
       "    </tr>\n",
       "    <tr>\n",
       "      <th>1</th>\n",
       "      <td>found enjoyable muppets movie felt light heart...</td>\n",
       "      <td>1</td>\n",
       "    </tr>\n",
       "    <tr>\n",
       "      <th>2</th>\n",
       "      <td>altogether bad start program slap face real la...</td>\n",
       "      <td>0</td>\n",
       "    </tr>\n",
       "    <tr>\n",
       "      <th>3</th>\n",
       "      <td>saw film tonight nyc landmark sunshine did not...</td>\n",
       "      <td>1</td>\n",
       "    </tr>\n",
       "    <tr>\n",
       "      <th>4</th>\n",
       "      <td>much like japanese movies one did not cut it m...</td>\n",
       "      <td>0</td>\n",
       "    </tr>\n",
       "  </tbody>\n",
       "</table>\n",
       "</div>"
      ],
      "text/plain": [
       "                                              review  sentiment\n",
       "0  steve carell stars person relate to sort of da...          1\n",
       "1  found enjoyable muppets movie felt light heart...          1\n",
       "2  altogether bad start program slap face real la...          0\n",
       "3  saw film tonight nyc landmark sunshine did not...          1\n",
       "4  much like japanese movies one did not cut it m...          0"
      ]
     },
     "execution_count": 198,
     "metadata": {},
     "output_type": "execute_result"
    }
   ],
   "source": [
    "df = pd.read_csv('CleanIMDB_train.csv') # Windows single-byte character encoding\n",
    "df.head()"
   ]
  },
  {
   "cell_type": "code",
   "execution_count": 199,
   "metadata": {},
   "outputs": [
    {
     "data": {
      "text/plain": [
       "<matplotlib.axes._subplots.AxesSubplot at 0x214e2b514a8>"
      ]
     },
     "execution_count": 199,
     "metadata": {},
     "output_type": "execute_result"
    },
    {
     "data": {
      "image/png": "[encoded data removed]",
      "text/plain": [
       "<Figure size 432x288 with 1 Axes>"
      ]
     },
     "metadata": {},
     "output_type": "display_data"
    }
   ],
   "source": [
    "# https://stackabuse.com/python-for-nlp-movie-sentiment-analysis-using-deep-learning-in-keras/\n",
    "sns.countplot(x='sentiment', data=df)"
   ]
  },
  {
   "cell_type": "code",
   "execution_count": 200,
   "metadata": {},
   "outputs": [],
   "source": [
    "X = df.iloc[:, 0].values\n",
    "y = df.iloc[:, 1].values\n",
    "X_train, X_test, y_train, y_test = train_test_split(X, y, test_size=0.20, random_state=42)"
   ]
  },
  {
   "cell_type": "code",
   "execution_count": 201,
   "metadata": {},
   "outputs": [],
   "source": [
    "# Use only thirty percent of the dataset for Keras -1500\n",
    "# X_train_, X_test_, y_train_, y_test_ = train_test_split(X_train,y_train,test_size=0.20, random_state=42)"
   ]
  },
  {
   "cell_type": "code",
   "execution_count": 202,
   "metadata": {},
   "outputs": [],
   "source": [
    "tokenizer = Tokenizer(num_words=5000)\n",
    "# Vocabulary index based on word index frequency - fit_on_texts\n",
    "# Every word gets unique integer value - word_index[\"the\"] = 1; word_index[\"cat\"] = 2\n",
    "tokenizer.fit_on_texts(X_train)\n",
    "# texts_to_sequences - transforms each text in texts to a sequence of integers\n",
    "X_train = tokenizer.texts_to_sequences(X_train)\n",
    "X_test = tokenizer.texts_to_sequences(X_test)"
   ]
  },
  {
   "cell_type": "code",
   "execution_count": 203,
   "metadata": {},
   "outputs": [],
   "source": [
    "vocab_size = len(tokenizer.word_index) + 1\n",
    "\n",
    "maxlen = 100\n",
    "# 0 is reserved for padding when more than 100 words length on each sample\n",
    "X_train = pad_sequences(X_train, padding='post', maxlen=maxlen)\n",
    "X_test = pad_sequences(X_test, padding='post', maxlen=maxlen)"
   ]
  },
  {
   "cell_type": "code",
   "execution_count": 204,
   "metadata": {},
   "outputs": [],
   "source": [
    "# print(X_train)"
   ]
  },
  {
   "cell_type": "code",
   "execution_count": 205,
   "metadata": {},
   "outputs": [],
   "source": [
    "# Downloaded the GloVe embeddings \"glove.68.zip\" and use 100d - pre-trained word vectors\n",
    "# Load the embeddings file: source - https://nlp.stanford.edu/projects/glove/\n",
    "embeddings_dictionary = dict()\n",
    "glove_file = open('glove.6B.100d.txt', encoding=\"utf8\")\n",
    "\n",
    "for line in glove_file:\n",
    "    records = line.split()\n",
    "    word = records[0]\n",
    "    vector_dimensions = asarray(records[1:], dtype='float32')\n",
    "    embeddings_dictionary [word] = vector_dimensions\n",
    "glove_file.close()"
   ]
  },
  {
   "cell_type": "code",
   "execution_count": 206,
   "metadata": {},
   "outputs": [],
   "source": [
    "embedding_matrix = zeros((vocab_size, 100))\n",
    "for word, index in tokenizer.word_index.items():\n",
    "    embedding_vector = embeddings_dictionary.get(word)\n",
    "    if embedding_vector is not None:\n",
    "        embedding_matrix[index] = embedding_vector"
   ]
  },
  {
   "cell_type": "code",
   "execution_count": 207,
   "metadata": {},
   "outputs": [],
   "source": [
    "# print(embedding_matrix)"
   ]
  },
  {
   "cell_type": "code",
   "execution_count": 222,
   "metadata": {},
   "outputs": [],
   "source": [
    "# Simple Neural Network - densely connected neural network\n",
    "model = Sequential()\n",
    "embedding_layer = Embedding(vocab_size, 100, weights=[embedding_matrix], input_length=maxlen , trainable=False)\n",
    "model.add(embedding_layer)\n",
    "\n",
    "model.add(Flatten())\n",
    "model.add(Dense(1, activation='sigmoid'))"
   ]
  },
  {
   "cell_type": "code",
   "execution_count": 223,
   "metadata": {},
   "outputs": [
    {
     "name": "stdout",
     "output_type": "stream",
     "text": [
      "34468\n"
     ]
    }
   ],
   "source": [
    "print(vocab_size)"
   ]
  },
  {
   "cell_type": "code",
   "execution_count": 224,
   "metadata": {},
   "outputs": [
    {
     "name": "stdout",
     "output_type": "stream",
     "text": [
      "Model: \"sequential_30\"\n",
      "_________________________________________________________________\n",
      "Layer (type)                 Output Shape              Param #   \n",
      "=================================================================\n",
      "embedding_30 (Embedding)     (None, 100, 100)          3446800   \n",
      "_________________________________________________________________\n",
      "flatten_15 (Flatten)         (None, 10000)             0         \n",
      "_________________________________________________________________\n",
      "dense_29 (Dense)             (None, 1)                 10001     \n",
      "=================================================================\n",
      "Total params: 3,456,801\n",
      "Trainable params: 10,001\n",
      "Non-trainable params: 3,446,800\n",
      "_________________________________________________________________\n",
      "None\n"
     ]
    }
   ],
   "source": [
    "model.compile(optimizer='adam', loss='binary_crossentropy', metrics=['acc'])\n",
    "\n",
    "print(model.summary())"
   ]
  },
  {
   "cell_type": "code",
   "execution_count": 245,
   "metadata": {},
   "outputs": [
    {
     "name": "stdout",
     "output_type": "stream",
     "text": [
      "Train on 3200 samples, validate on 800 samples\n",
      "Epoch 1/12\n",
      "3200/3200 [==============================] - 5s 2ms/step - loss: 0.6416 - acc: 0.6353 - val_loss: 0.5798 - val_acc: 0.7075\n",
      "Epoch 2/12\n",
      "3200/3200 [==============================] - 5s 2ms/step - loss: 0.4919 - acc: 0.8069 - val_loss: 0.5250 - val_acc: 0.7638\n",
      "Epoch 3/12\n",
      "3200/3200 [==============================] - 6s 2ms/step - loss: 0.4039 - acc: 0.8694 - val_loss: 0.4855 - val_acc: 0.7862\n",
      "Epoch 4/12\n",
      "3200/3200 [==============================] - 6s 2ms/step - loss: 0.3421 - acc: 0.8972 - val_loss: 0.4895 - val_acc: 0.7625\n",
      "Epoch 5/12\n",
      "3200/3200 [==============================] - 6s 2ms/step - loss: 0.2967 - acc: 0.9156 - val_loss: 0.4504 - val_acc: 0.7987\n",
      "Epoch 6/12\n",
      "3200/3200 [==============================] - 6s 2ms/step - loss: 0.2472 - acc: 0.9463 - val_loss: 0.4430 - val_acc: 0.8112\n",
      "Epoch 7/12\n",
      "3200/3200 [==============================] - 6s 2ms/step - loss: 0.2168 - acc: 0.9613 - val_loss: 0.4365 - val_acc: 0.8100\n",
      "Epoch 8/12\n",
      "3200/3200 [==============================] - 6s 2ms/step - loss: 0.1871 - acc: 0.9722 - val_loss: 0.4365 - val_acc: 0.8112\n",
      "Epoch 9/12\n",
      "3200/3200 [==============================] - 6s 2ms/step - loss: 0.1585 - acc: 0.9834 - val_loss: 0.4354 - val_acc: 0.7987\n",
      "Epoch 10/12\n",
      "3200/3200 [==============================] - 6s 2ms/step - loss: 0.1355 - acc: 0.9900 - val_loss: 0.4278 - val_acc: 0.8062\n",
      "Epoch 11/12\n",
      "3200/3200 [==============================] - 6s 2ms/step - loss: 0.1158 - acc: 0.9962 - val_loss: 0.4272 - val_acc: 0.8087\n",
      "Epoch 12/12\n",
      "3200/3200 [==============================] - 6s 2ms/step - loss: 0.0994 - acc: 0.9987 - val_loss: 0.4336 - val_acc: 0.7987\n"
     ]
    }
   ],
   "source": [
    "history = model.fit(X_train, y_train, batch_size=128, epochs=12, verbose=1, validation_split=0.2)"
   ]
  },
  {
   "cell_type": "code",
   "execution_count": 246,
   "metadata": {},
   "outputs": [
    {
     "name": "stdout",
     "output_type": "stream",
     "text": [
      "1000/1000 [==============================] - 1s 842us/step\n"
     ]
    }
   ],
   "source": [
    "score = model.evaluate(X_test, y_test, verbose=1)"
   ]
  },
  {
   "cell_type": "code",
   "execution_count": 247,
   "metadata": {},
   "outputs": [
    {
     "name": "stdout",
     "output_type": "stream",
     "text": [
      "Test Score: 0.40701492309570314\n",
      "Test Accuracy: 0.8220000267028809\n"
     ]
    }
   ],
   "source": [
    "print(\"Test Score:\", score[0])\n",
    "print(\"Test Accuracy:\", score[1])"
   ]
  },
  {
   "cell_type": "code",
   "execution_count": 248,
   "metadata": {},
   "outputs": [
    {
     "data": {
      "image/png": "[encoded data removed]",
      "text/plain": [
       "<Figure size 432x288 with 1 Axes>"
      ]
     },
     "metadata": {},
     "output_type": "display_data"
    },
    {
     "data": {
      "image/png": "[encoded data removed]",
      "text/plain": [
       "<Figure size 432x288 with 1 Axes>"
      ]
     },
     "metadata": {},
     "output_type": "display_data"
    }
   ],
   "source": [
    "plt.plot(history.history['acc'])\n",
    "plt.plot(history.history['val_acc'])\n",
    "\n",
    "plt.title('model accuracy')\n",
    "plt.ylabel('accuracy')\n",
    "plt.xlabel('epoch')\n",
    "plt.legend(['train','test'], loc = 'upper left')\n",
    "plt.show()\n",
    "\n",
    "plt.plot(history.history['loss'])\n",
    "plt.plot(history.history['val_loss'])\n",
    "\n",
    "plt.title('model loss')\n",
    "plt.ylabel('loss')\n",
    "plt.xlabel('epoch')\n",
    "plt.legend(['train','test'], loc='upper left')\n",
    "plt.show()"
   ]
  },
  {
   "cell_type": "code",
   "execution_count": 249,
   "metadata": {},
   "outputs": [],
   "source": [
    "# 1D Convolutional Neural Network for feature extraction and 1 pooling layer\n",
    "model = Sequential()\n",
    "\n",
    "embedding_layer = Embedding(vocab_size, 100, weights=[embedding_matrix], input_length=maxlen , trainable=False)\n",
    "model.add(embedding_layer)\n",
    "\n",
    "model.add(Conv1D(128, 5, activation='relu'))\n",
    "model.add(GlobalMaxPooling1D())\n",
    "model.add(Dense(1, activation='sigmoid'))\n",
    "model.compile(optimizer='adam', loss='binary_crossentropy', metrics=['acc'])"
   ]
  },
  {
   "cell_type": "code",
   "execution_count": 250,
   "metadata": {},
   "outputs": [
    {
     "name": "stdout",
     "output_type": "stream",
     "text": [
      "Model: \"sequential_35\"\n",
      "_________________________________________________________________\n",
      "Layer (type)                 Output Shape              Param #   \n",
      "=================================================================\n",
      "embedding_35 (Embedding)     (None, 100, 100)          3446800   \n",
      "_________________________________________________________________\n",
      "conv1d_11 (Conv1D)           (None, 96, 128)           64128     \n",
      "_________________________________________________________________\n",
      "global_max_pooling1d_11 (Glo (None, 128)               0         \n",
      "_________________________________________________________________\n",
      "dense_34 (Dense)             (None, 1)                 129       \n",
      "=================================================================\n",
      "Total params: 3,511,057\n",
      "Trainable params: 64,257\n",
      "Non-trainable params: 3,446,800\n",
      "_________________________________________________________________\n",
      "None\n"
     ]
    }
   ],
   "source": [
    "print(model.summary())"
   ]
  },
  {
   "cell_type": "code",
   "execution_count": 251,
   "metadata": {},
   "outputs": [
    {
     "name": "stdout",
     "output_type": "stream",
     "text": [
      "Train on 3200 samples, validate on 800 samples\n",
      "Epoch 1/12\n",
      "3200/3200 [==============================] - 6s 2ms/step - loss: 0.6666 - acc: 0.6000 - val_loss: 0.5970 - val_acc: 0.6800\n",
      "Epoch 2/12\n",
      "3200/3200 [==============================] - 5s 2ms/step - loss: 0.5105 - acc: 0.7750 - val_loss: 0.5406 - val_acc: 0.7425\n",
      "Epoch 3/12\n",
      "3200/3200 [==============================] - 5s 2ms/step - loss: 0.4234 - acc: 0.8478 - val_loss: 0.4994 - val_acc: 0.7738\n",
      "Epoch 4/12\n",
      "3200/3200 [==============================] - 5s 2ms/step - loss: 0.3599 - acc: 0.8928 - val_loss: 0.4730 - val_acc: 0.7937\n",
      "Epoch 5/12\n",
      "3200/3200 [==============================] - 5s 2ms/step - loss: 0.3127 - acc: 0.9156 - val_loss: 0.4614 - val_acc: 0.7925\n",
      "Epoch 6/12\n",
      "3200/3200 [==============================] - 6s 2ms/step - loss: 0.2730 - acc: 0.9366 - val_loss: 0.4494 - val_acc: 0.7975\n",
      "Epoch 7/12\n",
      "3200/3200 [==============================] - 6s 2ms/step - loss: 0.2360 - acc: 0.9550 - val_loss: 0.4444 - val_acc: 0.7962\n",
      "Epoch 8/12\n",
      "3200/3200 [==============================] - 5s 2ms/step - loss: 0.2059 - acc: 0.9691 - val_loss: 0.4334 - val_acc: 0.8163\n",
      "Epoch 9/12\n",
      "3200/3200 [==============================] - 6s 2ms/step - loss: 0.1756 - acc: 0.9828 - val_loss: 0.4310 - val_acc: 0.8025\n",
      "Epoch 10/12\n",
      "3200/3200 [==============================] - 6s 2ms/step - loss: 0.1525 - acc: 0.9878 - val_loss: 0.4364 - val_acc: 0.7987\n",
      "Epoch 11/12\n",
      "3200/3200 [==============================] - 6s 2ms/step - loss: 0.1320 - acc: 0.9934 - val_loss: 0.4256 - val_acc: 0.8112\n",
      "Epoch 12/12\n",
      "3200/3200 [==============================] - 6s 2ms/step - loss: 0.1178 - acc: 0.9934 - val_loss: 0.4313 - val_acc: 0.8012\n",
      "1000/1000 [==============================] - 1s 669us/step\n"
     ]
    }
   ],
   "source": [
    "history = model.fit(X_train, y_train, batch_size=128, epochs=12, verbose=1, validation_split=0.2)\n",
    "\n",
    "score = model.evaluate(X_test, y_test, verbose=1)"
   ]
  },
  {
   "cell_type": "code",
   "execution_count": 252,
   "metadata": {},
   "outputs": [
    {
     "name": "stdout",
     "output_type": "stream",
     "text": [
      "Test Score: 0.4081892099380493\n",
      "Test Accuracy: 0.8199999928474426\n"
     ]
    }
   ],
   "source": [
    "print(\"Test Score:\", score[0])\n",
    "print(\"Test Accuracy:\", score[1])"
   ]
  },
  {
   "cell_type": "code",
   "execution_count": 253,
   "metadata": {},
   "outputs": [
    {
     "data": {
      "image/png": "[encoded data removed]",
      "text/plain": [
       "<Figure size 432x288 with 1 Axes>"
      ]
     },
     "metadata": {},
     "output_type": "display_data"
    },
    {
     "data": {
      "image/png": "[encoded data removed]",
      "text/plain": [
       "<Figure size 432x288 with 1 Axes>"
      ]
     },
     "metadata": {},
     "output_type": "display_data"
    }
   ],
   "source": [
    "plt.plot(history.history['acc'])\n",
    "plt.plot(history.history['val_acc'])\n",
    "\n",
    "plt.title('model accuracy')\n",
    "plt.ylabel('accuracy')\n",
    "plt.xlabel('epoch')\n",
    "plt.legend(['train','test'], loc = 'upper left')\n",
    "plt.show()\n",
    "\n",
    "plt.plot(history.history['loss'])\n",
    "plt.plot(history.history['val_loss'])\n",
    "\n",
    "plt.title('model loss')\n",
    "plt.ylabel('loss')\n",
    "plt.xlabel('epoch')\n",
    "plt.legend(['train','test'], loc = 'upper left')\n",
    "plt.show()"
   ]
  },
  {
   "cell_type": "code",
   "execution_count": 254,
   "metadata": {},
   "outputs": [],
   "source": [
    "# Recurrent Neural Network with LSTM (Long Short Term Memory Network) a variant of RNN with 128 neurons\n",
    "model = Sequential()\n",
    "embedding_layer = Embedding(vocab_size, 100, weights=[embedding_matrix], input_length=maxlen , trainable=False)\n",
    "model.add(embedding_layer)\n",
    "model.add(LSTM(128))\n",
    "\n",
    "model.add(Dense(1, activation='sigmoid'))\n",
    "model.compile(optimizer='adam', loss='binary_crossentropy', metrics=['acc'])"
   ]
  },
  {
   "cell_type": "code",
   "execution_count": 255,
   "metadata": {},
   "outputs": [
    {
     "name": "stdout",
     "output_type": "stream",
     "text": [
      "Model: \"sequential_36\"\n",
      "_________________________________________________________________\n",
      "Layer (type)                 Output Shape              Param #   \n",
      "=================================================================\n",
      "embedding_36 (Embedding)     (None, 100, 100)          3446800   \n",
      "_________________________________________________________________\n",
      "lstm_9 (LSTM)                (None, 128)               117248    \n",
      "_________________________________________________________________\n",
      "dense_35 (Dense)             (None, 1)                 129       \n",
      "=================================================================\n",
      "Total params: 3,564,177\n",
      "Trainable params: 117,377\n",
      "Non-trainable params: 3,446,800\n",
      "_________________________________________________________________\n",
      "None\n"
     ]
    }
   ],
   "source": [
    "print(model.summary())"
   ]
  },
  {
   "cell_type": "code",
   "execution_count": 256,
   "metadata": {},
   "outputs": [
    {
     "name": "stdout",
     "output_type": "stream",
     "text": [
      "Train on 3200 samples, validate on 800 samples\n",
      "Epoch 1/12\n",
      "3200/3200 [==============================] - 24s 7ms/step - loss: 0.6774 - acc: 0.5503 - val_loss: 0.6846 - val_acc: 0.5875\n",
      "Epoch 2/12\n",
      "3200/3200 [==============================] - 22s 7ms/step - loss: 0.6147 - acc: 0.6856 - val_loss: 0.5719 - val_acc: 0.7200\n",
      "Epoch 3/12\n",
      "3200/3200 [==============================] - 21s 7ms/step - loss: 0.5626 - acc: 0.7319 - val_loss: 0.5512 - val_acc: 0.7200\n",
      "Epoch 4/12\n",
      "3200/3200 [==============================] - 23s 7ms/step - loss: 0.6213 - acc: 0.6816 - val_loss: 0.5883 - val_acc: 0.7188\n",
      "Epoch 5/12\n",
      "3200/3200 [==============================] - 24s 7ms/step - loss: 0.5335 - acc: 0.7494 - val_loss: 0.5037 - val_acc: 0.7775\n",
      "Epoch 6/12\n",
      "3200/3200 [==============================] - 23s 7ms/step - loss: 0.4977 - acc: 0.7725 - val_loss: 0.4942 - val_acc: 0.7825\n",
      "Epoch 7/12\n",
      "3200/3200 [==============================] - 23s 7ms/step - loss: 0.4691 - acc: 0.7856 - val_loss: 0.4612 - val_acc: 0.7925\n",
      "Epoch 8/12\n",
      "3200/3200 [==============================] - 22s 7ms/step - loss: 0.4598 - acc: 0.7959 - val_loss: 0.4663 - val_acc: 0.7950\n",
      "Epoch 9/12\n",
      "3200/3200 [==============================] - 22s 7ms/step - loss: 0.4589 - acc: 0.7928 - val_loss: 0.4546 - val_acc: 0.8062\n",
      "Epoch 10/12\n",
      "3200/3200 [==============================] - 23s 7ms/step - loss: 0.4844 - acc: 0.7928 - val_loss: 0.5098 - val_acc: 0.7750\n",
      "Epoch 11/12\n",
      "3200/3200 [==============================] - 23s 7ms/step - loss: 0.4787 - acc: 0.7912 - val_loss: 0.5088 - val_acc: 0.7675\n",
      "Epoch 12/12\n",
      "3200/3200 [==============================] - 23s 7ms/step - loss: 0.4274 - acc: 0.8112 - val_loss: 0.4616 - val_acc: 0.7875\n",
      "1000/1000 [==============================] - 4s 4ms/step\n"
     ]
    }
   ],
   "source": [
    "history = model.fit(X_train, y_train, batch_size=128, epochs=12, verbose=1, validation_split=0.2)\n",
    "\n",
    "score = model.evaluate(X_test, y_test, verbose=1)"
   ]
  },
  {
   "cell_type": "code",
   "execution_count": 257,
   "metadata": {},
   "outputs": [
    {
     "name": "stdout",
     "output_type": "stream",
     "text": [
      "Test Score: 0.47740601253509524\n",
      "Test Accuracy: 0.7919999957084656\n"
     ]
    }
   ],
   "source": [
    "print(\"Test Score:\", score[0])\n",
    "print(\"Test Accuracy:\", score[1])"
   ]
  },
  {
   "cell_type": "code",
   "execution_count": 258,
   "metadata": {},
   "outputs": [
    {
     "data": {
      "image/png": "[encoded data removed]",
      "text/plain": [
       "<Figure size 432x288 with 1 Axes>"
      ]
     },
     "metadata": {},
     "output_type": "display_data"
    },
    {
     "data": {
      "image/png": "[encoded data removed]",
      "text/plain": [
       "<Figure size 432x288 with 1 Axes>"
      ]
     },
     "metadata": {},
     "output_type": "display_data"
    }
   ],
   "source": [
    "plt.plot(history.history['acc'])\n",
    "plt.plot(history.history['val_acc'])\n",
    "\n",
    "plt.title('model accuracy')\n",
    "plt.ylabel('accuracy')\n",
    "plt.xlabel('epoch')\n",
    "plt.legend(['train','test'], loc='upper left')\n",
    "plt.show()\n",
    "\n",
    "plt.plot(history.history['loss'])\n",
    "plt.plot(history.history['val_loss'])\n",
    "\n",
    "plt.title('model loss')\n",
    "plt.ylabel('loss')\n",
    "plt.xlabel('epoch')\n",
    "plt.legend(['train','test'], loc='upper left')\n",
    "plt.show()"
   ]
  },
  {
   "cell_type": "code",
   "execution_count": null,
   "metadata": {},
   "outputs": [],
   "source": []
  }
 ],
 "metadata": {
  "kernelspec": {
   "display_name": "Python 3",
   "language": "python",
   "name": "python3"
  },
  "language_info": {
   "codemirror_mode": {
    "name": "ipython",
    "version": 3
   },
   "file_extension": ".py",
   "mimetype": "text/x-python",
   "name": "python",
   "nbconvert_exporter": "python",
   "pygments_lexer": "ipython3",
   "version": "3.6.5"
  }
 },
 "nbformat": 4,
 "nbformat_minor": 2
}
