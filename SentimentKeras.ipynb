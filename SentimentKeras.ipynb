{
 "cells": [
  {
   "cell_type": "code",
   "execution_count": 149,
   "metadata": {},
   "outputs": [],
   "source": [
    "import pandas as pd\n",
    "import numpy as np\n",
    "import re\n",
    "import nltk\n",
    "from nltk.corpus import stopwords\n",
    "\n",
    "from numpy import array\n",
    "from keras.preprocessing.text import one_hot\n",
    "from keras.preprocessing.sequence import pad_sequences\n",
    "from keras.models import Sequential\n",
    "from keras.layers.core import Activation, Dropout, Dense\n",
    "from keras.layers import Flatten\n",
    "from keras.layers import GlobalMaxPooling1D\n",
    "from keras.layers.embeddings import Embedding\n",
    "from sklearn.model_selection import train_test_split\n",
    "from keras.preprocessing.text import Tokenizer\n",
    "from keras.layers import Conv1D\n",
    "from keras.layers import LSTM\n",
    "import seaborn as sns\n",
    "from numpy import array\n",
    "from numpy import asarray\n",
    "from numpy import zeros\n",
    "import matplotlib.pyplot as plt"
   ]
  },
  {
   "cell_type": "code",
   "execution_count": 150,
   "metadata": {},
   "outputs": [
    {
     "data": {
      "text/html": [
       "<div>\n",
       "<style scoped>\n",
       "    .dataframe tbody tr th:only-of-type {\n",
       "        vertical-align: middle;\n",
       "    }\n",
       "\n",
       "    .dataframe tbody tr th {\n",
       "        vertical-align: top;\n",
       "    }\n",
       "\n",
       "    .dataframe thead th {\n",
       "        text-align: right;\n",
       "    }\n",
       "</style>\n",
       "<table border=\"1\" class=\"dataframe\">\n",
       "  <thead>\n",
       "    <tr style=\"text-align: right;\">\n",
       "      <th></th>\n",
       "      <th>review</th>\n",
       "      <th>sentiment</th>\n",
       "    </tr>\n",
       "  </thead>\n",
       "  <tbody>\n",
       "    <tr>\n",
       "      <th>0</th>\n",
       "      <td>steve carell stars person relate to sort of da...</td>\n",
       "      <td>1</td>\n",
       "    </tr>\n",
       "    <tr>\n",
       "      <th>1</th>\n",
       "      <td>found enjoyable muppets movie felt light heart...</td>\n",
       "      <td>1</td>\n",
       "    </tr>\n",
       "    <tr>\n",
       "      <th>2</th>\n",
       "      <td>altogether bad start program slap face real la...</td>\n",
       "      <td>0</td>\n",
       "    </tr>\n",
       "    <tr>\n",
       "      <th>3</th>\n",
       "      <td>saw film tonight nyc landmark sunshine did not...</td>\n",
       "      <td>1</td>\n",
       "    </tr>\n",
       "    <tr>\n",
       "      <th>4</th>\n",
       "      <td>much like japanese movies one did not cut it m...</td>\n",
       "      <td>0</td>\n",
       "    </tr>\n",
       "  </tbody>\n",
       "</table>\n",
       "</div>"
      ],
      "text/plain": [
       "                                              review  sentiment\n",
       "0  steve carell stars person relate to sort of da...          1\n",
       "1  found enjoyable muppets movie felt light heart...          1\n",
       "2  altogether bad start program slap face real la...          0\n",
       "3  saw film tonight nyc landmark sunshine did not...          1\n",
       "4  much like japanese movies one did not cut it m...          0"
      ]
     },
     "execution_count": 150,
     "metadata": {},
     "output_type": "execute_result"
    }
   ],
   "source": [
    "df = pd.read_csv('CleanIMDB_train.csv') # Windows single-byte character encoding\n",
    "df.head()"
   ]
  },
  {
   "cell_type": "code",
   "execution_count": 151,
   "metadata": {},
   "outputs": [
    {
     "data": {
      "text/plain": [
       "<matplotlib.axes._subplots.AxesSubplot at 0x214e29d6400>"
      ]
     },
     "execution_count": 151,
     "metadata": {},
     "output_type": "execute_result"
    },
    {
     "data": {
      "image/png": "[encoded data removed]",
      "text/plain": [
       "<Figure size 432x288 with 1 Axes>"
      ]
     },
     "metadata": {},
     "output_type": "display_data"
    }
   ],
   "source": [
    "# https://stackabuse.com/python-for-nlp-movie-sentiment-analysis-using-deep-learning-in-keras/\n",
    "sns.countplot(x='sentiment', data=df)"
   ]
  },
  {
   "cell_type": "code",
   "execution_count": 152,
   "metadata": {},
   "outputs": [],
   "source": [
    "X = df.iloc[:, 0].values\n",
    "y = df.iloc[:, 1].values\n",
    "X_train, X_test, y_train, y_test = train_test_split(X, y, test_size=0.20, random_state=42)"
   ]
  },
  {
   "cell_type": "code",
   "execution_count": 153,
   "metadata": {},
   "outputs": [],
   "source": [
    "# Use only thirty percent of the dataset for Keras -1500\n",
    "# X_train_, X_test_, y_train_, y_test_ = train_test_split(X_train,y_train,test_size=0.20, random_state=42)"
   ]
  },
  {
   "cell_type": "code",
   "execution_count": 154,
   "metadata": {},
   "outputs": [],
   "source": [
    "tokenizer = Tokenizer(num_words=5000)\n",
    "# Vocabulary index based on word index frequency - fit_on_texts\n",
    "# Every word gets unique integer value - word_index[\"the\"] = 1; word_index[\"cat\"] = 2\n",
    "tokenizer.fit_on_texts(X_train)\n",
    "# texts_to_sequences - transforms each text in texts to a sequence of integers\n",
    "X_train = tokenizer.texts_to_sequences(X_train)\n",
    "X_test = tokenizer.texts_to_sequences(X_test)"
   ]
  },
  {
   "cell_type": "code",
   "execution_count": 155,
   "metadata": {},
   "outputs": [],
   "source": [
    "vocab_size = len(tokenizer.word_index) + 1\n",
    "\n",
    "maxlen = 100\n",
    "# 0 is reserved for padding when more than 100 words length on each sample\n",
    "X_train = pad_sequences(X_train, padding='post', maxlen=maxlen)\n",
    "X_test = pad_sequences(X_test, padding='post', maxlen=maxlen)"
   ]
  },
  {
   "cell_type": "code",
   "execution_count": 156,
   "metadata": {},
   "outputs": [],
   "source": [
    "# print(X_train)"
   ]
  },
  {
   "cell_type": "code",
   "execution_count": 157,
   "metadata": {},
   "outputs": [],
   "source": [
    "# Downloaded the GloVe embeddings \"glove.68.zip\" and use 100d - pre-trained word vectors\n",
    "# Load the embeddings file: source - https://nlp.stanford.edu/projects/glove/\n",
    "embeddings_dictionary = dict()\n",
    "glove_file = open('glove.6B.100d.txt', encoding=\"utf8\")\n",
    "\n",
    "for line in glove_file:\n",
    "    records = line.split()\n",
    "    word = records[0]\n",
    "    vector_dimensions = asarray(records[1:], dtype='float32')\n",
    "    embeddings_dictionary [word] = vector_dimensions\n",
    "glove_file.close()"
   ]
  },
  {
   "cell_type": "code",
   "execution_count": 158,
   "metadata": {},
   "outputs": [],
   "source": [
    "embedding_matrix = zeros((vocab_size, 100))\n",
    "for word, index in tokenizer.word_index.items():\n",
    "    embedding_vector = embeddings_dictionary.get(word)\n",
    "    if embedding_vector is not None:\n",
    "        embedding_matrix[index] = embedding_vector"
   ]
  },
  {
   "cell_type": "code",
   "execution_count": 159,
   "metadata": {},
   "outputs": [],
   "source": [
    "# print(embedding_matrix)"
   ]
  },
  {
   "cell_type": "code",
   "execution_count": 181,
   "metadata": {},
   "outputs": [],
   "source": [
    "# Simple Neural Network - densely connected neural network\n",
    "model = Sequential()\n",
    "embedding_layer = Embedding(vocab_size, 100, weights=[embedding_matrix], input_length=maxlen , trainable=False)\n",
    "model.add(embedding_layer)\n",
    "\n",
    "model.add(Flatten())\n",
    "model.add(Dense(1, activation='sigmoid'))"
   ]
  },
  {
   "cell_type": "code",
   "execution_count": 182,
   "metadata": {},
   "outputs": [
    {
     "name": "stdout",
     "output_type": "stream",
     "text": [
      "34468\n"
     ]
    }
   ],
   "source": [
    "print(vocab_size)"
   ]
  },
  {
   "cell_type": "code",
   "execution_count": 183,
   "metadata": {},
   "outputs": [
    {
     "name": "stdout",
     "output_type": "stream",
     "text": [
      "Model: \"sequential_23\"\n",
      "_________________________________________________________________\n",
      "Layer (type)                 Output Shape              Param #   \n",
      "=================================================================\n",
      "embedding_23 (Embedding)     (None, 100, 100)          3446800   \n",
      "_________________________________________________________________\n",
      "flatten_10 (Flatten)         (None, 10000)             0         \n",
      "_________________________________________________________________\n",
      "dense_22 (Dense)             (None, 1)                 10001     \n",
      "=================================================================\n",
      "Total params: 3,456,801\n",
      "Trainable params: 10,001\n",
      "Non-trainable params: 3,446,800\n",
      "_________________________________________________________________\n",
      "None\n"
     ]
    }
   ],
   "source": [
    "model.compile(optimizer='adam', loss='binary_crossentropy', metrics=['acc'])\n",
    "\n",
    "print(model.summary())"
   ]
  },
  {
   "cell_type": "code",
   "execution_count": 184,
   "metadata": {},
   "outputs": [
    {
     "name": "stdout",
     "output_type": "stream",
     "text": [
      "Train on 3200 samples, validate on 800 samples\n",
      "Epoch 1/10\n",
      "3200/3200 [==============================] - 1s 166us/step - loss: 0.6949 - acc: 0.5666 - val_loss: 0.6321 - val_acc: 0.6275\n",
      "Epoch 2/10\n",
      "3200/3200 [==============================] - 0s 86us/step - loss: 0.5097 - acc: 0.7672 - val_loss: 0.6045 - val_acc: 0.6913\n",
      "Epoch 3/10\n",
      "3200/3200 [==============================] - 0s 75us/step - loss: 0.4280 - acc: 0.8397 - val_loss: 0.6042 - val_acc: 0.6913\n",
      "Epoch 4/10\n",
      "3200/3200 [==============================] - 0s 111us/step - loss: 0.3652 - acc: 0.8916 - val_loss: 0.5891 - val_acc: 0.6888\n",
      "Epoch 5/10\n",
      "3200/3200 [==============================] - 0s 115us/step - loss: 0.3212 - acc: 0.9131 - val_loss: 0.5904 - val_acc: 0.7000\n",
      "Epoch 6/10\n",
      "3200/3200 [==============================] - 0s 125us/step - loss: 0.2844 - acc: 0.9362 - val_loss: 0.5965 - val_acc: 0.6750\n",
      "Epoch 7/10\n",
      "3200/3200 [==============================] - 0s 120us/step - loss: 0.2584 - acc: 0.9488 - val_loss: 0.6067 - val_acc: 0.6787\n",
      "Epoch 8/10\n",
      "3200/3200 [==============================] - 0s 118us/step - loss: 0.2318 - acc: 0.9588 - val_loss: 0.6098 - val_acc: 0.6938\n",
      "Epoch 9/10\n",
      "3200/3200 [==============================] - 1s 178us/step - loss: 0.2106 - acc: 0.9691 - val_loss: 0.6119 - val_acc: 0.6850\n",
      "Epoch 10/10\n",
      "3200/3200 [==============================] - 1s 185us/step - loss: 0.1917 - acc: 0.9759 - val_loss: 0.6228 - val_acc: 0.6950\n"
     ]
    }
   ],
   "source": [
    "history = model.fit(X_train, y_train, batch_size=128, epochs=10, verbose=1, validation_split=0.2)"
   ]
  },
  {
   "cell_type": "code",
   "execution_count": 185,
   "metadata": {},
   "outputs": [
    {
     "name": "stdout",
     "output_type": "stream",
     "text": [
      "1000/1000 [==============================] - 0s 205us/step\n"
     ]
    }
   ],
   "source": [
    "score = model.evaluate(X_test, y_test, verbose=1)"
   ]
  },
  {
   "cell_type": "code",
   "execution_count": 186,
   "metadata": {},
   "outputs": [
    {
     "name": "stdout",
     "output_type": "stream",
     "text": [
      "Test Score: 0.5823627784252167\n",
      "Test Accuracy: 0.6959999799728394\n"
     ]
    }
   ],
   "source": [
    "print(\"Test Score:\", score[0])\n",
    "print(\"Test Accuracy:\", score[1])"
   ]
  },
  {
   "cell_type": "code",
   "execution_count": 187,
   "metadata": {},
   "outputs": [
    {
     "data": {
      "image/png": "[encoded data removed]",
      "text/plain": [
       "<Figure size 432x288 with 1 Axes>"
      ]
     },
     "metadata": {},
     "output_type": "display_data"
    },
    {
     "data": {
      "image/png": "[encoded data removed]",
      "text/plain": [
       "<Figure size 432x288 with 1 Axes>"
      ]
     },
     "metadata": {},
     "output_type": "display_data"
    }
   ],
   "source": [
    "plt.plot(history.history['acc'])\n",
    "plt.plot(history.history['val_acc'])\n",
    "\n",
    "plt.title('model accuracy')\n",
    "plt.ylabel('accuracy')\n",
    "plt.xlabel('epoch')\n",
    "plt.legend(['train','test'], loc = 'upper left')\n",
    "plt.show()\n",
    "\n",
    "plt.plot(history.history['loss'])\n",
    "plt.plot(history.history['val_loss'])\n",
    "\n",
    "plt.title('model loss')\n",
    "plt.ylabel('loss')\n",
    "plt.xlabel('epoch')\n",
    "plt.legend(['train','test'], loc='upper left')\n",
    "plt.show()"
   ]
  },
  {
   "cell_type": "code",
   "execution_count": 188,
   "metadata": {},
   "outputs": [],
   "source": [
    "# 1D Convolutional Neural Network for feature extraction and 1 pooling layer\n",
    "model = Sequential()\n",
    "\n",
    "embedding_layer = Embedding(vocab_size, 100, weights=[embedding_matrix], input_length=maxlen , trainable=False)\n",
    "model.add(embedding_layer)\n",
    "\n",
    "model.add(Conv1D(512, 5, activation='relu'))\n",
    "model.add(GlobalMaxPooling1D())\n",
    "model.add(Dense(1, activation='sigmoid'))\n",
    "model.compile(optimizer='adam', loss='binary_crossentropy', metrics=['acc'])"
   ]
  },
  {
   "cell_type": "code",
   "execution_count": 189,
   "metadata": {},
   "outputs": [
    {
     "name": "stdout",
     "output_type": "stream",
     "text": [
      "Model: \"sequential_24\"\n",
      "_________________________________________________________________\n",
      "Layer (type)                 Output Shape              Param #   \n",
      "=================================================================\n",
      "embedding_24 (Embedding)     (None, 100, 100)          3446800   \n",
      "_________________________________________________________________\n",
      "conv1d_7 (Conv1D)            (None, 96, 512)           256512    \n",
      "_________________________________________________________________\n",
      "global_max_pooling1d_7 (Glob (None, 512)               0         \n",
      "_________________________________________________________________\n",
      "dense_23 (Dense)             (None, 1)                 513       \n",
      "=================================================================\n",
      "Total params: 3,703,825\n",
      "Trainable params: 257,025\n",
      "Non-trainable params: 3,446,800\n",
      "_________________________________________________________________\n",
      "None\n"
     ]
    }
   ],
   "source": [
    "print(model.summary())"
   ]
  },
  {
   "cell_type": "code",
   "execution_count": 190,
   "metadata": {},
   "outputs": [
    {
     "name": "stdout",
     "output_type": "stream",
     "text": [
      "Train on 3200 samples, validate on 800 samples\n",
      "Epoch 1/10\n",
      "3200/3200 [==============================] - 19s 6ms/step - loss: 0.6419 - acc: 0.6284 - val_loss: 0.5371 - val_acc: 0.7462\n",
      "Epoch 2/10\n",
      "3200/3200 [==============================] - 18s 5ms/step - loss: 0.4332 - acc: 0.8347 - val_loss: 0.4899 - val_acc: 0.7850\n",
      "Epoch 3/10\n",
      "3200/3200 [==============================] - 18s 6ms/step - loss: 0.3270 - acc: 0.9081 - val_loss: 0.4526 - val_acc: 0.8112\n",
      "Epoch 4/10\n",
      "3200/3200 [==============================] - 18s 6ms/step - loss: 0.2576 - acc: 0.9453 - val_loss: 0.4374 - val_acc: 0.8025\n",
      "Epoch 5/10\n",
      "3200/3200 [==============================] - 18s 6ms/step - loss: 0.2064 - acc: 0.9669 - val_loss: 0.4236 - val_acc: 0.8150\n",
      "Epoch 6/10\n",
      "3200/3200 [==============================] - 19s 6ms/step - loss: 0.1593 - acc: 0.9853 - val_loss: 0.4150 - val_acc: 0.8163\n",
      "Epoch 7/10\n",
      "3200/3200 [==============================] - 18s 6ms/step - loss: 0.1254 - acc: 0.9941 - val_loss: 0.4225 - val_acc: 0.8050\n",
      "Epoch 8/10\n",
      "3200/3200 [==============================] - 18s 6ms/step - loss: 0.0979 - acc: 0.9984 - val_loss: 0.4116 - val_acc: 0.8200\n",
      "Epoch 9/10\n",
      "3200/3200 [==============================] - 18s 6ms/step - loss: 0.0776 - acc: 1.0000 - val_loss: 0.4085 - val_acc: 0.8238\n",
      "Epoch 10/10\n",
      "3200/3200 [==============================] - 19s 6ms/step - loss: 0.0601 - acc: 0.9997 - val_loss: 0.4232 - val_acc: 0.8100\n",
      "1000/1000 [==============================] - 2s 2ms/step\n"
     ]
    }
   ],
   "source": [
    "history = model.fit(X_train, y_train, batch_size=128, epochs=10, verbose=1, validation_split=0.2)\n",
    "\n",
    "score = model.evaluate(X_test, y_test, verbose=1)"
   ]
  },
  {
   "cell_type": "code",
   "execution_count": 191,
   "metadata": {},
   "outputs": [
    {
     "name": "stdout",
     "output_type": "stream",
     "text": [
      "Test Score: 0.40050235509872434\n",
      "Test Accuracy: 0.8270000219345093\n"
     ]
    }
   ],
   "source": [
    "print(\"Test Score:\", score[0])\n",
    "print(\"Test Accuracy:\", score[1])"
   ]
  },
  {
   "cell_type": "code",
   "execution_count": 192,
   "metadata": {},
   "outputs": [
    {
     "data": {
      "image/png": "[encoded data removed]",
      "text/plain": [
       "<Figure size 432x288 with 1 Axes>"
      ]
     },
     "metadata": {},
     "output_type": "display_data"
    },
    {
     "data": {
      "image/png": "[encoded data removed]",
      "text/plain": [
       "<Figure size 432x288 with 1 Axes>"
      ]
     },
     "metadata": {},
     "output_type": "display_data"
    }
   ],
   "source": [
    "plt.plot(history.history['acc'])\n",
    "plt.plot(history.history['val_acc'])\n",
    "\n",
    "plt.title('model accuracy')\n",
    "plt.ylabel('accuracy')\n",
    "plt.xlabel('epoch')\n",
    "plt.legend(['train','test'], loc = 'upper left')\n",
    "plt.show()\n",
    "\n",
    "plt.plot(history.history['loss'])\n",
    "plt.plot(history.history['val_loss'])\n",
    "\n",
    "plt.title('model loss')\n",
    "plt.ylabel('loss')\n",
    "plt.xlabel('epoch')\n",
    "plt.legend(['train','test'], loc = 'upper left')\n",
    "plt.show()"
   ]
  },
  {
   "cell_type": "code",
   "execution_count": 193,
   "metadata": {},
   "outputs": [],
   "source": [
    "# Recurrent Neural Network with LSTM (Long Short Term Memory Network) a variant of RNN with 128 neurons\n",
    "model = Sequential()\n",
    "embedding_layer = Embedding(vocab_size, 100, weights=[embedding_matrix], input_length=maxlen , trainable=False)\n",
    "model.add(embedding_layer)\n",
    "model.add(LSTM(512))\n",
    "\n",
    "model.add(Dense(1, activation='sigmoid'))\n",
    "model.compile(optimizer='adam', loss='binary_crossentropy', metrics=['acc'])"
   ]
  },
  {
   "cell_type": "code",
   "execution_count": 194,
   "metadata": {},
   "outputs": [
    {
     "name": "stdout",
     "output_type": "stream",
     "text": [
      "Model: \"sequential_25\"\n",
      "_________________________________________________________________\n",
      "Layer (type)                 Output Shape              Param #   \n",
      "=================================================================\n",
      "embedding_25 (Embedding)     (None, 100, 100)          3446800   \n",
      "_________________________________________________________________\n",
      "lstm_7 (LSTM)                (None, 512)               1255424   \n",
      "_________________________________________________________________\n",
      "dense_24 (Dense)             (None, 1)                 513       \n",
      "=================================================================\n",
      "Total params: 4,702,737\n",
      "Trainable params: 1,255,937\n",
      "Non-trainable params: 3,446,800\n",
      "_________________________________________________________________\n",
      "None\n"
     ]
    }
   ],
   "source": [
    "print(model.summary())"
   ]
  },
  {
   "cell_type": "code",
   "execution_count": 195,
   "metadata": {},
   "outputs": [
    {
     "name": "stdout",
     "output_type": "stream",
     "text": [
      "Train on 3200 samples, validate on 800 samples\n",
      "Epoch 1/10\n",
      "3200/3200 [==============================] - 181s 57ms/step - loss: 0.6865 - acc: 0.5547 - val_loss: 0.6532 - val_acc: 0.6263\n",
      "Epoch 2/10\n",
      "3200/3200 [==============================] - 173s 54ms/step - loss: 0.6513 - acc: 0.6313 - val_loss: 0.6494 - val_acc: 0.6325\n",
      "Epoch 3/10\n",
      "3200/3200 [==============================] - 179s 56ms/step - loss: 0.5870 - acc: 0.7109 - val_loss: 0.5618 - val_acc: 0.7225\n",
      "Epoch 4/10\n",
      "3200/3200 [==============================] - 179s 56ms/step - loss: 0.5657 - acc: 0.7362 - val_loss: 0.6469 - val_acc: 0.6450\n",
      "Epoch 5/10\n",
      "3200/3200 [==============================] - 176s 55ms/step - loss: 0.6190 - acc: 0.6463 - val_loss: 0.6682 - val_acc: 0.5738\n",
      "Epoch 6/10\n",
      "3200/3200 [==============================] - 184s 58ms/step - loss: 0.6310 - acc: 0.6434 - val_loss: 0.6752 - val_acc: 0.6612\n",
      "Epoch 7/10\n",
      "3200/3200 [==============================] - 195s 61ms/step - loss: 0.5752 - acc: 0.7250 - val_loss: 0.5628 - val_acc: 0.7262\n",
      "Epoch 8/10\n",
      "3200/3200 [==============================] - 191s 60ms/step - loss: 0.5098 - acc: 0.7719 - val_loss: 0.5307 - val_acc: 0.7538\n",
      "Epoch 9/10\n",
      "3200/3200 [==============================] - 185s 58ms/step - loss: 0.4818 - acc: 0.7825 - val_loss: 0.4952 - val_acc: 0.7750\n",
      "Epoch 10/10\n",
      "3200/3200 [==============================] - 190s 59ms/step - loss: 0.4668 - acc: 0.7984 - val_loss: 0.4745 - val_acc: 0.7887\n",
      "1000/1000 [==============================] - 24s 24ms/step\n"
     ]
    }
   ],
   "source": [
    "history = model.fit(X_train, y_train, batch_size=128, epochs=10, verbose=1, validation_split=0.2)\n",
    "\n",
    "score = model.evaluate(X_test, y_test, verbose=1)"
   ]
  },
  {
   "cell_type": "code",
   "execution_count": 196,
   "metadata": {},
   "outputs": [
    {
     "name": "stdout",
     "output_type": "stream",
     "text": [
      "Test Score: 0.48435640144348147\n",
      "Test Accuracy: 0.7739999890327454\n"
     ]
    }
   ],
   "source": [
    "print(\"Test Score:\", score[0])\n",
    "print(\"Test Accuracy:\", score[1])"
   ]
  },
  {
   "cell_type": "code",
   "execution_count": 176,
   "metadata": {},
   "outputs": [
    {
     "data": {
      "image/png": "[encoded data removed]",
      "text/plain": [
       "<Figure size 432x288 with 1 Axes>"
      ]
     },
     "metadata": {},
     "output_type": "display_data"
    },
    {
     "data": {
      "image/png": "[encoded data removed]",
      "text/plain": [
       "<Figure size 432x288 with 1 Axes>"
      ]
     },
     "metadata": {},
     "output_type": "display_data"
    }
   ],
   "source": [
    "plt.plot(history.history['acc'])\n",
    "plt.plot(history.history['val_acc'])\n",
    "\n",
    "plt.title('model accuracy')\n",
    "plt.ylabel('accuracy')\n",
    "plt.xlabel('epoch')\n",
    "plt.legend(['train','test'], loc='upper left')\n",
    "plt.show()\n",
    "\n",
    "plt.plot(history.history['loss'])\n",
    "plt.plot(history.history['val_loss'])\n",
    "\n",
    "plt.title('model loss')\n",
    "plt.ylabel('loss')\n",
    "plt.xlabel('epoch')\n",
    "plt.legend(['train','test'], loc='upper left')\n",
    "plt.show()"
   ]
  },
  {
   "cell_type": "code",
   "execution_count": null,
   "metadata": {},
   "outputs": [],
   "source": []
  }
 ],
 "metadata": {
  "kernelspec": {
   "display_name": "Python 3",
   "language": "python",
   "name": "python3"
  },
  "language_info": {
   "codemirror_mode": {
    "name": "ipython",
    "version": 3
   },
   "file_extension": ".py",
   "mimetype": "text/x-python",
   "name": "python",
   "nbconvert_exporter": "python",
   "pygments_lexer": "ipython3",
   "version": "3.6.5"
  }
 },
 "nbformat": 4,
 "nbformat_minor": 2
}
