{
 "cells": [
  {
   "cell_type": "code",
   "execution_count": 35,
   "metadata": {},
   "outputs": [
    {
     "data": {
      "text/html": [
       "<div>\n",
       "<style scoped>\n",
       "    .dataframe tbody tr th:only-of-type {\n",
       "        vertical-align: middle;\n",
       "    }\n",
       "\n",
       "    .dataframe tbody tr th {\n",
       "        vertical-align: top;\n",
       "    }\n",
       "\n",
       "    .dataframe thead th {\n",
       "        text-align: right;\n",
       "    }\n",
       "</style>\n",
       "<table border=\"1\" class=\"dataframe\">\n",
       "  <thead>\n",
       "    <tr style=\"text-align: right;\">\n",
       "      <th></th>\n",
       "      <th>SentimentText</th>\n",
       "      <th>Sentiment</th>\n",
       "    </tr>\n",
       "  </thead>\n",
       "  <tbody>\n",
       "    <tr>\n",
       "      <th>0</th>\n",
       "      <td>first think another disney movie might good it...</td>\n",
       "      <td>1</td>\n",
       "    </tr>\n",
       "    <tr>\n",
       "      <th>1</th>\n",
       "      <td>put aside dr house repeat missed desperate hou...</td>\n",
       "      <td>0</td>\n",
       "    </tr>\n",
       "    <tr>\n",
       "      <th>2</th>\n",
       "      <td>big fan stephen king s work film made even gre...</td>\n",
       "      <td>1</td>\n",
       "    </tr>\n",
       "    <tr>\n",
       "      <th>3</th>\n",
       "      <td>watched horrid thing tv needless say one movie...</td>\n",
       "      <td>0</td>\n",
       "    </tr>\n",
       "    <tr>\n",
       "      <th>4</th>\n",
       "      <td>truly enjoyed film acting terrific plot jeff c...</td>\n",
       "      <td>1</td>\n",
       "    </tr>\n",
       "  </tbody>\n",
       "</table>\n",
       "</div>"
      ],
      "text/plain": [
       "                                       SentimentText  Sentiment\n",
       "0  first think another disney movie might good it...          1\n",
       "1  put aside dr house repeat missed desperate hou...          0\n",
       "2  big fan stephen king s work film made even gre...          1\n",
       "3  watched horrid thing tv needless say one movie...          0\n",
       "4  truly enjoyed film acting terrific plot jeff c...          1"
      ]
     },
     "execution_count": 35,
     "metadata": {},
     "output_type": "execute_result"
    }
   ],
   "source": [
    "import pandas as pd\n",
    "import numpy as np\n",
    "# Dataset is from kaggle - (https://www.kaggle.com/oumaimahourrane/imdb-movie-reviews-cleaned-data)\n",
    "df = pd.read_csv('clean_data.csv',encoding='cp1252') # Windows single-byte character encoding\n",
    "df = df.drop(df.columns[0], axis=1) # Drop the first column\n",
    "df.head()"
   ]
  },
  {
   "cell_type": "code",
   "execution_count": 36,
   "metadata": {},
   "outputs": [
    {
     "name": "stdout",
     "output_type": "stream",
     "text": [
      "[['steve carell stars person relate to sort of dan real life film expected like ended liking it movie laugh loud funny it s big heart like steve carell is not fans office would expect see him know what liked movie carell stars dan burns widowed father who s daughters do not really like him one weekend daughters travel see family there goes bookstore falls woman gets back house finds brother mitch played dane cook dating woman played juliette binoche dan real life times found bit unbelievable burns family really kind people exercises together play board games together bunch family things would highly doubt that do not know family like that stopping giving thumbs up no dan real life'\n",
      "  1]\n",
      " ['found enjoyable muppets movie felt light hearted best comic delivery lines muppets try go broadway sell original musical they ve written along way run usual problems including kermit s memory loss here are not many great cameos original muppets movie including joan rivers dabney coleman simply timing delivery many lines great situations muppets find hilarious original songs also good here ending satisfying much else say film muppet fans see sure funniest muppet movie sure enjoyed all'\n",
      "  1]\n",
      " ['altogether bad start program slap face real law enforcement worst part series attempts bill reality fare anything but men women dedicate lives enforcement laws deserve better this next medical school minute charo performing lipo charles grodin assisting hip replacement c mon show little respect even citizens muncie outing program staged police academy high school gym poor editing how many times use car to car shot taco bell background cheesy siren effects the loop added ad nauseum every call whether rolling code not last least officer safety issues could shake stick at if want see manufactured police work wise ass fake cops would watch reno'\n",
      "  0]\n",
      " ...\n",
      " ['like movie lot it s fact cannot understand it unless you re ex yugoslavia actors dead best actors ex yugoslavia appreciate movie divx collection macedonia serbia montenegro bosnia herzegowina croatia slovenia all ex yugoslavia melting pot balcan nations could dream land slobodan milosevic franjo tudjman nationalists would not poison nation s mind sick ideas'\n",
      "  1]\n",
      " ['first off consider film nearly fifty years old yet still stands one great films time wonder many todays throwaway celluloid productions still talked the story simple yet solid enough effects nothing short phenomenal day still recall first time watched this kid monster enters force field protecting ship got see outline first and only time shivering fear tell you looks dated today still effective enough the scenes tiger show age now see outline tiger matted shots altaira visible likewise effect whereby creature melts way krell doors wonderfully done it s also amazing see leslie nielsen better remembered airplane naked gun movies young still mature man film came out nearly now all good movie sure continue favourite years come timeless'\n",
      "  1]\n",
      " ['bad really like kristen cloke gary busey director failed put together there s lot action lot promise comes hokey director did not job promising action comes lame much seems contrived desperate attempt save film version the rage directv credits simply is not worth time watch it another director would done better job'\n",
      "  0]]\n"
     ]
    }
   ],
   "source": [
    "# Shuffle the dataset\n",
    "dfshuffled = np.random.permutation(df)\n",
    "print(dfshuffled)"
   ]
  },
  {
   "cell_type": "code",
   "execution_count": 37,
   "metadata": {},
   "outputs": [
    {
     "name": "stdout",
     "output_type": "stream",
     "text": [
      "Total length of the dataset: 25000\n"
     ]
    }
   ],
   "source": [
    "print('Total length of the dataset: %d' %(len(dfshuffled)))"
   ]
  },
  {
   "cell_type": "code",
   "execution_count": 38,
   "metadata": {},
   "outputs": [],
   "source": [
    "import csv\n",
    "with open('CleanIMDB_train.csv', mode='w', encoding=\"utf-8\") as IMDB_train:\n",
    "    IMDB_writer = csv.writer(IMDB_train, delimiter=',', quotechar='\"', quoting=csv.QUOTE_MINIMAL)\n",
    "    IMDB_writer.writerow([\"review\", \"sentiment\"])\n",
    "    for i in range(5000):\n",
    "        IMDB_writer.writerow(dfshuffled[i])"
   ]
  },
  {
   "cell_type": "code",
   "execution_count": 39,
   "metadata": {},
   "outputs": [
    {
     "data": {
      "text/html": [
       "<div>\n",
       "<style scoped>\n",
       "    .dataframe tbody tr th:only-of-type {\n",
       "        vertical-align: middle;\n",
       "    }\n",
       "\n",
       "    .dataframe tbody tr th {\n",
       "        vertical-align: top;\n",
       "    }\n",
       "\n",
       "    .dataframe thead th {\n",
       "        text-align: right;\n",
       "    }\n",
       "</style>\n",
       "<table border=\"1\" class=\"dataframe\">\n",
       "  <thead>\n",
       "    <tr style=\"text-align: right;\">\n",
       "      <th></th>\n",
       "      <th>review</th>\n",
       "      <th>sentiment</th>\n",
       "    </tr>\n",
       "  </thead>\n",
       "  <tbody>\n",
       "    <tr>\n",
       "      <th>0</th>\n",
       "      <td>steve carell stars person relate to sort of da...</td>\n",
       "      <td>1</td>\n",
       "    </tr>\n",
       "    <tr>\n",
       "      <th>1</th>\n",
       "      <td>found enjoyable muppets movie felt light heart...</td>\n",
       "      <td>1</td>\n",
       "    </tr>\n",
       "    <tr>\n",
       "      <th>2</th>\n",
       "      <td>altogether bad start program slap face real la...</td>\n",
       "      <td>0</td>\n",
       "    </tr>\n",
       "    <tr>\n",
       "      <th>3</th>\n",
       "      <td>saw film tonight nyc landmark sunshine did not...</td>\n",
       "      <td>1</td>\n",
       "    </tr>\n",
       "    <tr>\n",
       "      <th>4</th>\n",
       "      <td>much like japanese movies one did not cut it m...</td>\n",
       "      <td>0</td>\n",
       "    </tr>\n",
       "  </tbody>\n",
       "</table>\n",
       "</div>"
      ],
      "text/plain": [
       "                                              review  sentiment\n",
       "0  steve carell stars person relate to sort of da...          1\n",
       "1  found enjoyable muppets movie felt light heart...          1\n",
       "2  altogether bad start program slap face real la...          0\n",
       "3  saw film tonight nyc landmark sunshine did not...          1\n",
       "4  much like japanese movies one did not cut it m...          0"
      ]
     },
     "execution_count": 39,
     "metadata": {},
     "output_type": "execute_result"
    }
   ],
   "source": [
    "dftrain = pd.read_csv('CleanIMDB_train.csv')\n",
    "dftrain.head()"
   ]
  }
 ],
 "metadata": {
  "kernelspec": {
   "display_name": "Python 3",
   "language": "python",
   "name": "python3"
  },
  "language_info": {
   "codemirror_mode": {
    "name": "ipython",
    "version": 3
   },
   "file_extension": ".py",
   "mimetype": "text/x-python",
   "name": "python",
   "nbconvert_exporter": "python",
   "pygments_lexer": "ipython3",
   "version": "3.6.5"
  }
 },
 "nbformat": 4,
 "nbformat_minor": 2
}
